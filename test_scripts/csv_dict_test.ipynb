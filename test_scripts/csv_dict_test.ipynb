{
 "cells": [
  {
   "cell_type": "markdown",
   "metadata": {},
   "source": [
    "## Dict logging test\n",
    "\n",
    "Need to deepcopy since appending to cool_deque appends reference to cool_dict object, not contents of dict at the time of append"
   ]
  },
  {
   "cell_type": "code",
   "execution_count": 18,
   "metadata": {},
   "outputs": [
    {
     "name": "stdout",
     "output_type": "stream",
     "text": [
      "0.0032292600022628903\n",
      "0.01675804498954676\n"
     ]
    }
   ],
   "source": [
    "import csv\n",
    "from copy import deepcopy\n",
    "from collections import deque\n",
    "\n",
    "cool_dict = {'a':0, 'b':0, 'c':0, 'd':0, 'e':0}\n",
    "cool_deque = deque()\n",
    "\n",
    "filename = 'cool_log.csv'\n",
    "\n",
    "with open(filename, 'w') as f:\n",
    "    writer = csv.DictWriter(f, fieldnames=cool_dict.keys(), lineterminator='\\n',quotechar='|')\n",
    "    writer.writeheader()\n",
    "    for i in range(20):\n",
    "        for k, v in cool_dict.items():\n",
    "            cool_dict[k] = v + i\n",
    "\n",
    "        cool_deque.append(deepcopy(cool_dict))\n",
    "        \n",
    "        if i % 5 == 0:\n",
    "            size = len(cool_deque)\n",
    "            for _ in range(size):\n",
    "                data = cool_deque.popleft()\n",
    "                writer.writerow(data)\n"
   ]
  },
  {
   "cell_type": "markdown",
   "metadata": {},
   "source": [
    "Compact way to create list with sides from fields"
   ]
  },
  {
   "cell_type": "code",
   "execution_count": 18,
   "metadata": {},
   "outputs": [
    {
     "name": "stdout",
     "output_type": "stream",
     "text": [
      "['state_time_left', 'state_time_right', 'temperature_left', 'temperature_right', 'accel_x_left', 'accel_x_right', 'accel_y_left', 'accel_y_right', 'accel_z_left', 'accel_z_right', 'gyro_x_left', 'gyro_x_right', 'gyro_y_left', 'gyro_y_right', 'gyro_z_left', 'gyro_z_right', 'ankle_angle_left', 'ankle_angle_right', 'ankle_velocity_left', 'ankle_velocity_right', 'motor_angle_left', 'motor_angle_right', 'motor_velocity_left', 'motor_velocity_right', 'motor_current_left', 'motor_current_right', 'act_ank_torque_left', 'act_ank_torque_right', 'asdf']\n"
     ]
    }
   ],
   "source": [
    "from itertools import chain\n",
    "fields = ['state_time', 'temperature', 'accel_x', 'accel_y', 'accel_z', 'gyro_x', 'gyro_y' ,'gyro_z', 'ankle_angle', 'ankle_velocity', 'motor_angle', 'motor_velocity', 'motor_current', 'act_ank_torque']\n",
    "\n",
    "_side = '_left'\n",
    "fields_side = list(chain.from_iterable((i+'_left', i+'_right') for i in fields))\n",
    "print(fields_side + ['asdf'])"
   ]
  }
 ],
 "metadata": {
  "kernelspec": {
   "display_name": "Python 3",
   "language": "python",
   "name": "python3"
  },
  "language_info": {
   "codemirror_mode": {
    "name": "ipython",
    "version": 3
   },
   "file_extension": ".py",
   "mimetype": "text/x-python",
   "name": "python",
   "nbconvert_exporter": "python",
   "pygments_lexer": "ipython3",
   "version": "3.12.3"
  }
 },
 "nbformat": 4,
 "nbformat_minor": 2
}
